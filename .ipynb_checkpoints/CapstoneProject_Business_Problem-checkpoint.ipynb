{
 "cells": [
  {
   "cell_type": "markdown",
   "metadata": {},
   "source": [
    "# Introduction"
   ]
  },
  {
   "cell_type": "markdown",
   "metadata": {},
   "source": [
    "We all love our weekends and holidays, and a lot of us like to make the most of them by exploring new places in the city based on our unique interests. Day tour recommendation service aims to provide  recommendations about the places you can visit in a day, near a given starting location and within a desired distance radius. The service takes into account your things of interests like food, sight-seeing, outdoor activities, entertainment etc. and recommends places you can visit on a given day.\n",
    "\n",
    "The service will group the different places of interest and plot each group on a map for better visualization.\n"
   ]
  },
  {
   "cell_type": "markdown",
   "metadata": {},
   "source": [
    "# Business Problem"
   ]
  },
  {
   "cell_type": "markdown",
   "metadata": {},
   "source": [
    "I am on an official trip to San Francisco to attend a conference, staying at JW Marriot. I have a day off and I want to go on a day tour to explore SF. Being a foodie and a nature lover, I want to explore nature attractions and have some good food along the way. Recommend me places to visit in SF within a radius of 50Kms from where I stay. \n",
    "\n",
    "#### Criteria (Input to the service):\n",
    "1. I am interested in the following nature attractions:\n",
    "    * Scenic lookout\n",
    "    * Waterfall\n",
    "    * Lake\n",
    "    * Beach\n",
    "2. I am interested in trying one of these cuisines:\n",
    "    * Indian\n",
    "    * Italian\n",
    "    * Mexican\n",
    "    * Thai\n",
    "    * Ethiopian\n",
    "3. I am staying at JW Marriot, recommend me places within 50kms of my stay\n",
    "\n",
    "#### Expected output:\n",
    "Provide recommendations. Group these places and plot each group on a map for better visualization\n"
   ]
  }
 ],
 "metadata": {
  "kernelspec": {
   "display_name": "Python 3",
   "language": "python",
   "name": "python3"
  },
  "language_info": {
   "codemirror_mode": {
    "name": "ipython",
    "version": 3
   },
   "file_extension": ".py",
   "mimetype": "text/x-python",
   "name": "python",
   "nbconvert_exporter": "python",
   "pygments_lexer": "ipython3",
   "version": "3.7.4"
  }
 },
 "nbformat": 4,
 "nbformat_minor": 4
}
