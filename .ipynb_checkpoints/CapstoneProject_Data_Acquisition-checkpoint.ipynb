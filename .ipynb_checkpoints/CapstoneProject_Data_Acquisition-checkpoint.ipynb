{
 "cells": [
  {
   "cell_type": "markdown",
   "metadata": {},
   "source": [
    "# Data Acquisition"
   ]
  },
  {
   "cell_type": "markdown",
   "metadata": {},
   "source": [
    "#### Primary Data Source\n",
    "Foursquare API"
   ]
  },
  {
   "cell_type": "markdown",
   "metadata": {},
   "source": [
    "#### Data Description\n",
    "We will rely on \"Get Venue Recommendations\" API from Foursquare to fetch relevant data. Following are the important parameters we will be passing to the API:\n",
    "1. ll --> This is the coordinates of the starting location (in this case 37.7883, -122.4105 for JW Marriot)\n",
    "2. radius --> This is the maximum distance from the starting location (in this case 50kms)\n",
    "3. categoryId or query --> Comma-separated list of interested categories of places to visit (food, outdoors etc.) or specific text to search within places (Indian restaurant etc.)"
   ]
  },
  {
   "cell_type": "markdown",
   "metadata": {},
   "source": [
    "#### Data Analysis\n",
    "Following are the considerations while working with Foursquare API:\n",
    "1. Separate API calls to fetch data for each cuisine of interest\n",
    "We will be making separate calls to the API for each cuisine of interest as otherwise the data is mixed up and data set for each cuisine is drastically reduced. We will aim to get as much relevant data as possible. For example, to fetch Indian Restaurants near JW Marriot, we will use query parameter ('Indian Restaurant') instead of categoryId for food ('4d4b7105d754a06374d81259')."
   ]
  },
  {
   "cell_type": "markdown",
   "metadata": {},
   "source": [
    "![alt text](https://raw.githubusercontent.com/girishyes/Coursera_Capstone/master/Frousquare_SF_IndianRestaurants.png \"Indian Restaurants\")"
   ]
  },
  {
   "cell_type": "markdown",
   "metadata": {},
   "source": [
    "2. Separate API calls to fetch data for each nature attraction of interest\n",
    "Similar to cuisines/food, we will be making separate calls to the API for each nature attraction of interest. For example, to fetch Waterfalls near JW Marriot, we will use query parameter ('Waterfall') instead of categoryId for outdoors ('4d4b7105d754a06377d81259')."
   ]
  },
  {
   "cell_type": "markdown",
   "metadata": {},
   "source": [
    "![alt text](https://raw.githubusercontent.com/girishyes/Coursera_Capstone/master/Frousquare_SF_Waterfalls.png \"Waterfalls\")"
   ]
  }
 ],
 "metadata": {
  "kernelspec": {
   "display_name": "Python 3",
   "language": "python",
   "name": "python3"
  },
  "language_info": {
   "codemirror_mode": {
    "name": "ipython",
    "version": 3
   },
   "file_extension": ".py",
   "mimetype": "text/x-python",
   "name": "python",
   "nbconvert_exporter": "python",
   "pygments_lexer": "ipython3",
   "version": "3.7.4"
  }
 },
 "nbformat": 4,
 "nbformat_minor": 4
}
